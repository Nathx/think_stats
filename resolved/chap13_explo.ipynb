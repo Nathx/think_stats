{
 "cells": [
  {
   "cell_type": "code",
   "execution_count": 3,
   "metadata": {
    "collapsed": true
   },
   "outputs": [],
   "source": [
    "from __future__ import print_function, division\n",
    "\n",
    "import nsfg\n",
    "import survival\n",
    "\n",
    "import thinkstats2\n",
    "import thinkplot\n",
    "\n",
    "import pandas\n",
    "import numpy\n",
    "from lifelines import KaplanMeierFitter\n",
    "from collections import defaultdict\n",
    "\n",
    "import matplotlib.pyplot as pyplot\n",
    "import chap01soln\n",
    "\n",
    "%matplotlib inline"
   ]
  },
  {
   "cell_type": "code",
   "execution_count": 4,
   "metadata": {
    "collapsed": true
   },
   "outputs": [],
   "source": [
    "resp = chap01soln.ReadFemResp()"
   ]
  },
  {
   "cell_type": "code",
   "execution_count": 5,
   "metadata": {
    "collapsed": true
   },
   "outputs": [],
   "source": [
    "resp.cmmarrhx.replace([9997,9998,9999], np.nan, inplace=True)\n",
    "resp['agemarry'] = (resp.cmmarrhx - resp.cmbirth) / 12.0\n",
    "resp['age'] = (resp.cmintvw - resp.cmbirth) / 12.0"
   ]
  },
  {
   "cell_type": "code",
   "execution_count": 6,
   "metadata": {
    "collapsed": true
   },
   "outputs": [],
   "source": [
    "complete = resp[resp.evrmarry==1].agemarry\n",
    "ongoing = resp[resp.evrmarry==0].age"
   ]
  },
  {
   "cell_type": "code",
   "execution_count": 8,
   "metadata": {
    "collapsed": false
   },
   "outputs": [],
   "source": [
    "class SurvivalFunction(object):\n",
    "    \"\"\"Represents a survival function.\"\"\"\n",
    "\n",
    "    def __init__(self, cdf, label=''):\n",
    "        self.cdf = cdf\n",
    "        self.label = label or cdf.label\n",
    "\n",
    "    @property\n",
    "    def ts(self):\n",
    "        return self.cdf.xs\n",
    "\n",
    "    @property\n",
    "    def ss(self):\n",
    "        return 1 - self.cdf.ps\n",
    "\n",
    "    def __getitem__(self, t):\n",
    "        return self.Prob(t)\n",
    "\n",
    "    def Prob(self, t):\n",
    "        \"\"\"Returns S(t), the probability that corresponds to value t.\n",
    "\n",
    "        t: time\n",
    "\n",
    "        returns: float probability\n",
    "        \"\"\"\n",
    "        return 1 - self.cdf.Prob(t)\n",
    "\n",
    "    def Probs(self, xs):\n",
    "        \"\"\"Gets probabilities for a sequence of values.\"\"\"\n",
    "        return [self.Prob(x) for x in xs]\n",
    "\n",
    "    def Mean(self):\n",
    "        \"\"\"Mean survival time.\"\"\"\n",
    "        return self.cdf.Mean()\n",
    "\n",
    "    def Items(self):\n",
    "        \"\"\"Sorted list of (t, s) pairs.\"\"\"\n",
    "        return zip(self.ts, self.ss)\n",
    "\n",
    "    def Render(self):\n",
    "        \"\"\"Generates a sequence of points suitable for plotting.\n",
    "\n",
    "        returns: tuple of (sorted times, survival function)\n",
    "        \"\"\"\n",
    "        return self.ts, self.ss\n",
    "\n",
    "    def MakeHazard(self, label=''):\n",
    "        \"\"\"Computes the hazard function.\n",
    "\n",
    "        sf: survival function\n",
    "\n",
    "        returns: Pmf that maps times to hazard rates\n",
    "        \"\"\"\n",
    "        ss = self.ss\n",
    "        lams = {}\n",
    "        for i, t in enumerate(self.ts[:-1]):\n",
    "            hazard = (ss[i] - ss[i+1]) / ss[i]\n",
    "            lams[t] = hazard\n",
    "\n",
    "        return HazardFunction(lams, label=label)\n",
    "\n",
    "    def MakePmf(self, filler=None):\n",
    "        \"\"\"Makes a PMF of lifetimes.\n",
    "\n",
    "        filler: value to replace missing values\n",
    "\n",
    "        returns: Pmf\n",
    "        \"\"\"\n",
    "        pmf = thinkstats2.Pmf()\n",
    "        for val, prob in self.cdf.Items():\n",
    "            pmf.Set(val, prob)\n",
    "\n",
    "        cutoff = self.cdf.ps[-1]\n",
    "        if filler is not None:\n",
    "            pmf[filler] = 1-cutoff\n",
    "\n",
    "        return pmf\n",
    "\n",
    "    def RemainingLifetime(self, filler=None, func=thinkstats2.Pmf.Mean):\n",
    "        \"\"\"Computes remaining lifetime as a function of age.\n",
    "\n",
    "        func: function from conditional Pmf to expected liftime\n",
    "\n",
    "        returns: Series that maps from age to remaining lifetime\n",
    "        \"\"\"\n",
    "        pmf = self.MakePmf(filler=filler)\n",
    "        d = {}\n",
    "        for t in sorted(pmf.Values())[:-1]:\n",
    "            pmf[t] = 0\n",
    "            pmf.Normalize()\n",
    "            d[t] = func(pmf) - t\n",
    "            #print(t, d[t])\n",
    "\n",
    "        return pandas.Series(d)"
   ]
  },
  {
   "cell_type": "code",
   "execution_count": 9,
   "metadata": {
    "collapsed": true
   },
   "outputs": [],
   "source": [
    "class HazardFunction(object):\n",
    "    \"\"\"Represents a hazard function.\"\"\"\n",
    "\n",
    "    def __init__(self, d, label=''):\n",
    "        \"\"\"Initialize the hazard function.\n",
    "\n",
    "        d: dictionary (or anything that can initialize a series)\n",
    "        label: string\n",
    "        \"\"\"\n",
    "        self.series = pandas.Series(d)\n",
    "        self.label = label\n",
    "\n",
    "    def __getitem__(self, t):\n",
    "        return self.series[t]\n",
    "\n",
    "    def Render(self):\n",
    "        \"\"\"Generates a sequence of points suitable for plotting.\n",
    "\n",
    "        returns: tuple of (sorted times, hazard function)\n",
    "        \"\"\"\n",
    "        return self.series.index, self.series.values\n",
    "\n",
    "    def MakeSurvival(self, label=''):\n",
    "        \"\"\"Makes the survival function.\n",
    "\n",
    "        returns: SurvivalFunction\n",
    "        \"\"\"\n",
    "        ts = self.series.index\n",
    "        ss = (1 - self.series).cumprod()\n",
    "        cdf = thinkstats2.Cdf(ts, 1-ss)\n",
    "        sf = SurvivalFunction(cdf, label=label)\n",
    "        return sf\n",
    "\n",
    "    def Extend(self, other):\n",
    "        \"\"\"Extends this hazard function by copying the tail from another.\n",
    "\n",
    "        other: HazardFunction\n",
    "        \"\"\"\n",
    "        last = self.series.index[-1]\n",
    "        more = other.series[other.series.index > last]\n",
    "        self.series = pandas.concat([self.series, more])"
   ]
  },
  {
   "cell_type": "code",
   "execution_count": 10,
   "metadata": {
    "collapsed": true
   },
   "outputs": [],
   "source": [
    "def EstimateHazardFunction(complete, ongoing, label='', shift=1e-7):\n",
    "    \"\"\"Estimates the hazard function by Kaplan-Meier.\n",
    "\n",
    "    http://en.wikipedia.org/wiki/Kaplan%E2%80%93Meier_estimator\n",
    "\n",
    "    complete: list of complete lifetimes\n",
    "    ongoing: list of ongoing lifetimes\n",
    "    label: string\n",
    "    shift: presumed additional survival of ongoing\n",
    "    \"\"\"\n",
    "    # pmf and sf of complete lifetimes\n",
    "    n = len(complete)\n",
    "    hist_complete = thinkstats2.Hist(complete)\n",
    "    sf_complete = SurvivalFunction(thinkstats2.Cdf(complete))\n",
    "\n",
    "    # sf for ongoing lifetimes\n",
    "    # The shift is a regrettable hack needed to deal with simultaneity.\n",
    "    # If a case is complete at some t and another case is ongoing\n",
    "    # at t, we presume that the ongoing case exceeds t+shift.\n",
    "    m = len(ongoing)\n",
    "    cdf = thinkstats2.Cdf(ongoing).Shift(shift)\n",
    "    sf_ongoing = SurvivalFunction(cdf)\n",
    "\n",
    "    lams = {}\n",
    "    for t, ended in sorted(hist_complete.Items()):\n",
    "        at_risk = ended + n * sf_complete[t] + m * sf_ongoing[t]\n",
    "        lams[t] = ended / at_risk\n",
    "        #print(t, ended, n * sf_complete[t], m * sf_ongoing[t], at_risk)\n",
    "\n",
    "    return HazardFunction(lams, label=label)"
   ]
  },
  {
   "cell_type": "code",
   "execution_count": 13,
   "metadata": {
    "collapsed": false
   },
   "outputs": [
    {
     "data": {
      "image/png": "[encoded data removed]",
      "text/plain": [
       "<matplotlib.figure.Figure at 0x110c15d50>"
      ]
     },
     "metadata": {},
     "output_type": "display_data"
    }
   ],
   "source": [
    "thinkplot.Plot(EstimateHazardFunction(complete, ongoing).MakeSurvival())"
   ]
  },
  {
   "cell_type": "code",
   "execution_count": null,
   "metadata": {
    "collapsed": true
   },
   "outputs": [],
   "source": []
  }
 ],
 "metadata": {
  "kernelspec": {
   "display_name": "Python 2",
   "language": "python",
   "name": "python2"
  },
  "language_info": {
   "codemirror_mode": {
    "name": "ipython",
    "version": 2
   },
   "file_extension": ".py",
   "mimetype": "text/x-python",
   "name": "python",
   "nbconvert_exporter": "python",
   "pygments_lexer": "ipython2",
   "version": "2.7.10"
  }
 },
 "nbformat": 4,
 "nbformat_minor": 0
}
