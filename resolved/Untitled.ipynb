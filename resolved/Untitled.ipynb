{
 "cells": [
  {
   "cell_type": "code",
   "execution_count": 14,
   "metadata": {
    "collapsed": true
   },
   "outputs": [],
   "source": [
    "from __future__ import print_function, division\n",
    "\n",
    "import numpy as np\n",
    "import random\n",
    "\n",
    "import first\n",
    "import normal\n",
    "import thinkstats2\n",
    "import thinkplot\n"
   ]
  },
  {
   "cell_type": "code",
   "execution_count": 1,
   "metadata": {
    "collapsed": true
   },
   "outputs": [],
   "source": [
    "class Normal(object):\n",
    "    \"\"\"Represents a Normal distribution\"\"\"\n",
    "\n",
    "    def __init__(self, mu, sigma2, label=''):\n",
    "        \"\"\"Initializes.\n",
    "\n",
    "        mu: mean\n",
    "        sigma2: variance\n",
    "        \"\"\"\n",
    "        self.mu = mu\n",
    "        self.sigma2 = sigma2\n",
    "        self.label = label\n",
    "\n",
    "    def __str__(self):\n",
    "        \"\"\"Returns a string representation.\"\"\"\n",
    "        return 'N(%g, %g)' % (self.mu, self.sigma2)\n",
    "\n",
    "    @property\n",
    "    def sigma(self):\n",
    "        \"\"\"Returns the standard deviation.\"\"\"\n",
    "        return math.sqrt(self.sigma2)\n",
    "\n",
    "    def __add__(self, other):\n",
    "        \"\"\"Adds a number or other Normal.\n",
    "\n",
    "        other: number or Normal\n",
    "\n",
    "        returns: new Normal\n",
    "        \"\"\"\n",
    "        if isinstance(other, Normal):\n",
    "            return Normal(self.mu + other.mu, self.sigma2 + other.sigma2)\n",
    "        else:\n",
    "            return Normal(self.mu + other, self.sigma2)\n",
    "\n",
    "    __radd__ = __add__\n",
    "\n",
    "    def __sub__(self, other):\n",
    "        \"\"\"Subtracts a number or other Normal.\n",
    "\n",
    "        other: number or Normal\n",
    "\n",
    "        returns: new Normal\n",
    "        \"\"\"\n",
    "        if isinstance(other, Normal):\n",
    "            return Normal(self.mu - other.mu, self.sigma2 + other.sigma2)\n",
    "        else:\n",
    "            return Normal(self.mu - other, self.sigma2)\n",
    "\n",
    "    __rsub__ = __sub__\n",
    "\n",
    "    def __mul__(self, factor):\n",
    "        \"\"\"Multiplies by a scalar.\n",
    "\n",
    "        factor: number\n",
    "\n",
    "        returns: new Normal\n",
    "        \"\"\"\n",
    "        return Normal(factor * self.mu, factor**2 * self.sigma2)\n",
    "\n",
    "    __rmul__ = __mul__\n",
    "\n",
    "    def __div__(self, divisor):\n",
    "        \"\"\"Divides by a scalar.\n",
    "\n",
    "        divisor: number\n",
    "\n",
    "        returns: new Normal\n",
    "        \"\"\"\n",
    "        return 1.0 / divisor * self\n",
    "\n",
    "    __truediv__ = __div__\n",
    "\n",
    "    def Sum(self, n):\n",
    "        \"\"\"Returns the distribution of the sum of n values.\n",
    "\n",
    "        n: int\n",
    "\n",
    "        returns: new Normal\n",
    "        \"\"\"\n",
    "        return Normal(n * self.mu, n * self.sigma2)\n",
    "\n",
    "    def Render(self):\n",
    "        \"\"\"Returns pair of xs, ys suitable for plotting.\n",
    "        \"\"\"\n",
    "        mean, std = self.mu, self.sigma\n",
    "        low, high = mean - 3 * std, mean + 3 * std\n",
    "        xs, ys = thinkstats2.RenderNormalCdf(mean, std, low, high)\n",
    "        return xs, ys\n",
    "\n",
    "    def Prob(self, x):\n",
    "        \"\"\"Cumulative probability of x.\n",
    "\n",
    "        x: numeric\n",
    "        \"\"\"\n",
    "        return thinkstats2.EvalNormalCdf(x, self.mu, self.sigma)\n",
    "\n",
    "    def Percentile(self, p):\n",
    "        \"\"\"Inverse CDF of p.\n",
    "\n",
    "        p: percentile rank 0-100\n",
    "        \"\"\"\n",
    "        return thinkstats2.EvalNormalCdfInverse(p/100, self.mu, self.sigma)"
   ]
  },
  {
   "cell_type": "code",
   "execution_count": 15,
   "metadata": {
    "collapsed": true
   },
   "outputs": [],
   "source": [
    "def PlotPregLengths(live, firsts, others):\n",
    "    \"\"\"Plots sampling distributions under the null and alternate hypotheses.\n",
    "\n",
    "    live, firsts, others: DataFrames\n",
    "\n",
    "    Results:  \n",
    "    null hypothesis N(0, 0.00319708)\n",
    "    0.0837707042554 0.0837707042554     (90% CI)\n",
    "\n",
    "    estimated params N(0.0780373, 0.00321144)\n",
    "    -0.0151758158699 0.171250349425     (90% CI)\n",
    "\n",
    "    Sampling distribution under the null hypothesis is centered\n",
    "    around 0.\n",
    "\n",
    "    Sampling distribution under the null hypothesis is centered\n",
    "    around the observed difference, 0.078.\n",
    "\n",
    "    The variance of the two distributions is very similar; in practice,\n",
    "    you could reasonably compute whichever one is easier.\n",
    "\n",
    "    \"\"\"\n",
    "    print('prglngth example')\n",
    "    delta = firsts.prglngth.mean() - others.prglngth.mean()\n",
    "    print(delta)\n",
    "\n",
    "    dist1 = normal.SamplingDistMean(live.prglngth, len(firsts))\n",
    "    dist2 = normal.SamplingDistMean(live.prglngth, len(others))\n",
    "    dist = dist1 - dist2\n",
    "    print('null hypothesis', dist)\n",
    "    print(dist.Prob(-delta), 1 - dist.Prob(delta))\n",
    "\n",
    "    thinkplot.PrePlot(2)\n",
    "    thinkplot.Plot(dist, label='null hypothesis')\n",
    "\n",
    "    dist1 = normal.SamplingDistMean(firsts.prglngth, len(firsts))\n",
    "    dist2 = normal.SamplingDistMean(others.prglngth, len(others))\n",
    "    dist = dist1 - dist2\n",
    "    print('estimated params', dist)\n",
    "    print(dist.Percentile(5), dist.Percentile(95))\n",
    "\n",
    "    thinkplot.Plot(dist, label='estimated params')\n",
    "    thinkplot.Show(xlabel='difference in means (weeks)',\n",
    "                   ylabel='CDF')"
   ]
  },
  {
   "cell_type": "code",
   "execution_count": 17,
   "metadata": {
    "collapsed": false
   },
   "outputs": [],
   "source": [
    "import first\n",
    "live, first, others = first.MakeFrames()"
   ]
  },
  {
   "cell_type": "code",
   "execution_count": 18,
   "metadata": {
    "collapsed": false
   },
   "outputs": [
    {
     "name": "stdout",
     "output_type": "stream",
     "text": [
      "prglngth example\n",
      "0.0780372667775\n",
      "null hypothesis N(0, 0.00319708)\n",
      "0.0837707042554 0.0837707042554\n",
      "estimated params N(0.0780373, 0.00321144)\n",
      "-0.0151758158699 0.171250349425\n"
     ]
    },
    {
     "data": {
      "image/png": "[encoded data removed]",
      "text/plain": [
       "<matplotlib.figure.Figure at 0x109deebd0>"
      ]
     },
     "metadata": {},
     "output_type": "display_data"
    },
    {
     "data": {
      "text/plain": [
       "<matplotlib.figure.Figure at 0x109cc17d0>"
      ]
     },
     "metadata": {},
     "output_type": "display_data"
    }
   ],
   "source": [
    "%matplotlib inline\n",
    "import thinkstats2\n",
    "import math\n",
    "import thinkplot\n",
    "\n",
    "PlotPregLengths(live, first, others)"
   ]
  },
  {
   "cell_type": "code",
   "execution_count": 7,
   "metadata": {
    "collapsed": true
   },
   "outputs": [],
   "source": [
    "def SamplingDistMean(data, n):\n",
    "    \"\"\"Computes the sampling distribution of the mean.\n",
    "\n",
    "    data: sequence of values representing the population\n",
    "    n: sample size\n",
    "\n",
    "    returns: Normal object\n",
    "    \"\"\"\n",
    "    mean, var = data.mean(), data.var()\n",
    "    dist = Normal(mean, var)\n",
    "    return dist.Sum(n) / n\n"
   ]
  },
  {
   "cell_type": "code",
   "execution_count": null,
   "metadata": {
    "collapsed": true
   },
   "outputs": [],
   "source": []
  }
 ],
 "metadata": {
  "kernelspec": {
   "display_name": "Python 2",
   "language": "python",
   "name": "python2"
  },
  "language_info": {
   "codemirror_mode": {
    "name": "ipython",
    "version": 2
   },
   "file_extension": ".py",
   "mimetype": "text/x-python",
   "name": "python",
   "nbconvert_exporter": "python",
   "pygments_lexer": "ipython2",
   "version": "2.7.10"
  }
 },
 "nbformat": 4,
 "nbformat_minor": 0
}
