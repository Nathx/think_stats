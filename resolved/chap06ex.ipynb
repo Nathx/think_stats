{
 "cells": [
  {
   "cell_type": "code",
   "execution_count": 15,
   "metadata": {
    "collapsed": true
   },
   "outputs": [],
   "source": [
    "%matplotlib inline\n",
    "import thinkstats2\n",
    "import thinkplot\n",
    "import numpy as np\n",
    "import pandas as pd\n",
    "import hinc\n",
    "import hinc2\n",
    "import math"
   ]
  },
  {
   "cell_type": "code",
   "execution_count": 2,
   "metadata": {
    "collapsed": false
   },
   "outputs": [
    {
     "name": "stderr",
     "output_type": "stream",
     "text": [
      "hinc.py:51: SettingWithCopyWarning: \n",
      "A value is trying to be set on a copy of a slice from a DataFrame\n",
      "\n",
      "See the caveats in the documentation: http://pandas.pydata.org/pandas-docs/stable/indexing.html#indexing-view-versus-copy\n",
      "  df[0][0] -= 1\n",
      "hinc2.py:33: SettingWithCopyWarning: \n",
      "A value is trying to be set on a copy of a slice from a DataFrame\n",
      "\n",
      "See the caveats in the documentation: http://pandas.pydata.org/pandas-docs/stable/indexing.html#indexing-view-versus-copy\n",
      "  df.log_lower[0] = 3.0\n",
      "hinc2.py:36: SettingWithCopyWarning: \n",
      "A value is trying to be set on a copy of a slice from a DataFrame\n",
      "\n",
      "See the caveats in the documentation: http://pandas.pydata.org/pandas-docs/stable/indexing.html#indexing-view-versus-copy\n",
      "  df.log_upper[41] = log_upper\n",
      "/Users/nathankiner/anaconda/lib/python2.7/site-packages/matplotlib/axes/_axes.py:475: UserWarning: No labelled objects found. Use label='...' kwarg on individual plots.\n",
      "  warnings.warn(\"No labelled objects found. \"\n"
     ]
    },
    {
     "data": {
      "image/png": "[encoded data removed]",
      "text/plain": [
       "<matplotlib.figure.Figure at 0x1039e1b50>"
      ]
     },
     "metadata": {},
     "output_type": "display_data"
    },
    {
     "data": {
      "text/plain": [
       "<matplotlib.figure.Figure at 0x103549dd0>"
      ]
     },
     "metadata": {},
     "output_type": "display_data"
    }
   ],
   "source": [
    "hinc2.main()"
   ]
  },
  {
   "cell_type": "code",
   "execution_count": 45,
   "metadata": {
    "collapsed": false,
    "scrolled": true
   },
   "outputs": [
    {
     "data": {
      "image/png": "[encoded data removed]",
      "text/plain": [
       "<matplotlib.figure.Figure at 0x1099e9d50>"
      ]
     },
     "metadata": {},
     "output_type": "display_data"
    },
    {
     "data": {
      "text/plain": [
       "<matplotlib.figure.Figure at 0x1099f7a90>"
      ]
     },
     "metadata": {},
     "output_type": "display_data"
    }
   ],
   "source": [
    "df = hinc.ReadData()\n",
    "log_sample = hinc2.InterpolateSample(df, log_upper=15.0)\n",
    "\n",
    "log_cdf = thinkstats2.Cdf(log_sample)\n",
    "log_pdf = thinkstats2.EstimatedPdf(log_sample)\n",
    "thinkplot.Cdf(log_cdf)\n",
    "thinkplot.Show(xlabel='household income',\n",
    "               ylabel='CDF')"
   ]
  },
  {
   "cell_type": "code",
   "execution_count": 46,
   "metadata": {
    "collapsed": false
   },
   "outputs": [],
   "source": [
    "ls = pd.Series(log_sample)"
   ]
  },
  {
   "cell_type": "code",
   "execution_count": 47,
   "metadata": {
    "collapsed": false
   },
   "outputs": [
    {
     "name": "stdout",
     "output_type": "stream",
     "text": [
      "4.76455710567\n",
      "4.70949835561\n"
     ]
    }
   ],
   "source": [
    "print ls.mean()\n",
    "print ls.median()"
   ]
  },
  {
   "cell_type": "code",
   "execution_count": 48,
   "metadata": {
    "collapsed": false
   },
   "outputs": [],
   "source": [
    "def Mean(sample):\n",
    "    if len(sample) == 0:\n",
    "        raise ValueError(\"No elements in this list.\")\n",
    "    mean = sum(sample)/len(sample)\n",
    "    return mean\n",
    "\n",
    "def Median(sample):\n",
    "    if len(sample) == 0:\n",
    "        raise ValueError(\"No elements in this list.\")\n",
    "    sorted_sample = sorted(sample)\n",
    "    l = len(sorted_sample)\n",
    "    if l % 2 == 0:\n",
    "        median = (sorted_sample[l/2 - 1] + sorted_sample[l/2])/2\n",
    "    else:\n",
    "        median = sorted_sample[abs(l/2)]\n",
    "    return median\n",
    "\n",
    "def Std(sample):\n",
    "    if len(sample) == 0:\n",
    "        raise ValueError(\"No elements in this list.\")\n",
    "    mean = Mean(sample)\n",
    "    var = 0\n",
    "    for xi in sample:\n",
    "        var += pow(xi - mean, 2)\n",
    "    var = var/len(sample)\n",
    "    std = math.sqrt(var)\n",
    "    return std\n",
    "    \n",
    "def PearsonSkewness(sample):\n",
    "    if len(sample) == 0:\n",
    "        raise ValueError(\"No elements in this list.\")\n",
    "    return 3*(Mean(sample) - Median(sample))/Std(sample)"
   ]
  },
  {
   "cell_type": "code",
   "execution_count": 49,
   "metadata": {
    "collapsed": false
   },
   "outputs": [
    {
     "name": "stdout",
     "output_type": "stream",
     "text": [
      "0.158417828469\n"
     ]
    }
   ],
   "source": [
    "print PearsonSkewness(log_sample)"
   ]
  },
  {
   "cell_type": "code",
   "execution_count": null,
   "metadata": {
    "collapsed": true
   },
   "outputs": [],
   "source": []
  }
 ],
 "metadata": {
  "kernelspec": {
   "display_name": "Python 2",
   "language": "python",
   "name": "python2"
  },
  "language_info": {
   "codemirror_mode": {
    "name": "ipython",
    "version": 2
   },
   "file_extension": ".py",
   "mimetype": "text/x-python",
   "name": "python",
   "nbconvert_exporter": "python",
   "pygments_lexer": "ipython2",
   "version": "2.7.10"
  }
 },
 "nbformat": 4,
 "nbformat_minor": 0
}
